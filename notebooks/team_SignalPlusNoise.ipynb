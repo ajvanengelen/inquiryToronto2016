{
 "cells": [
  {
   "cell_type": "markdown",
   "metadata": {},
   "source": [
    "Click on Help > Keyboard Shortcuts for a reminder on how to use python notebooks.  You can execute each cell with Shift+Enter."
   ]
  },
  {
   "cell_type": "markdown",
   "metadata": {},
   "source": [
    "Import some preliminary tools to work with the data."
   ]
  },
  {
   "cell_type": "code",
   "execution_count": 1,
   "metadata": {
    "collapsed": false,
    "scrolled": true
   },
   "outputs": [
    {
     "name": "stdout",
     "output_type": "stream",
     "text": [
      "Populating the interactive namespace from numpy and matplotlib\n"
     ]
    }
   ],
   "source": [
    "import sys\n",
    "sys.path.append(\"../py\")\n",
    "#import transitTools\n",
    "%pylab inline"
   ]
  },
  {
   "cell_type": "markdown",
   "metadata": {},
   "source": [
    "All data sets will be 30 hours long, with a sampling rate of one data point per minute, for a total of 1800 data points."
   ]
  },
  {
   "cell_type": "code",
   "execution_count": 2,
   "metadata": {
    "collapsed": true
   },
   "outputs": [],
   "source": [
    "totalObservingTimeInMinutes = 30*60\n",
    "samplingRatePerMinute = 1\n",
    "time = arange(0, totalObservingTimeInMinutes, samplingRatePerMinute)"
   ]
  },
  {
   "cell_type": "markdown",
   "metadata": {},
   "source": [
    "Load in the first data set for your group given by signalPlusNoiseCurve\\_\\*\\*\\_\\*.txt, where the first star is your team number and the second star is the data set number, ranging from 0 to 2.  Please change team_num and data_set_num accordingly."
   ]
  },
  {
   "cell_type": "code",
   "execution_count": 3,
   "metadata": {
    "collapsed": false
   },
   "outputs": [],
   "source": [
    "team_num = '00'\n",
    "data_set_num = '0'\n",
    "curve = loadtxt('../data/signalPlusNoiseCurve_'+team_num+'_'+data_set_num+'.txt')"
   ]
  },
  {
   "cell_type": "markdown",
   "metadata": {},
   "source": [
    "Read in value of the orbital period in the corresponding text file."
   ]
  },
  {
   "cell_type": "code",
   "execution_count": 4,
   "metadata": {
    "collapsed": false
   },
   "outputs": [
    {
     "name": "stdout",
     "output_type": "stream",
     "text": [
      "11.9680464232\n"
     ]
    }
   ],
   "source": [
    "periodInDays = loadtxt('../data/signalPlusNoisePeriod_'+team_num+'_'+data_set_num+'.txt')\n",
    "print periodInDays"
   ]
  },
  {
   "cell_type": "markdown",
   "metadata": {},
   "source": [
    "Now take a look at your first data set.  How might you characterize these data?"
   ]
  },
  {
   "cell_type": "code",
   "execution_count": 5,
   "metadata": {
    "collapsed": false
   },
   "outputs": [
    {
     "data": {
      "text/plain": [
       "<matplotlib.text.Text at 0x10e1d7fd0>"
      ]
     },
     "execution_count": 5,
     "metadata": {},
     "output_type": "execute_result"
    },
    {
     "data": {
      "image/png": "[encoded data removed]",
      "text/plain": [
       "<matplotlib.figure.Figure at 0x10c0a1390>"
      ]
     },
     "metadata": {},
     "output_type": "display_data"
    }
   ],
   "source": [
    "plot(curve)  #you can use plot(curve), '.' to make a scatter plot intstead\n",
    "#ylim([lower,upper]) #you might want to change the limit on the y-axis \n",
    "#xlim works in the same way to adjust the zoom-in on the x-axis\n",
    "xlabel('Time [minutes]',fontsize='12')\n",
    "ylabel('Normalized Flux',fontsize='12')"
   ]
  },
  {
   "cell_type": "markdown",
   "metadata": {
    "collapsed": false
   },
   "source": [
    "Now load and analyze data sets 1 and 2"
   ]
  },
  {
   "cell_type": "markdown",
   "metadata": {},
   "source": [
    "Once you have worked with curves 0, 1, and 2, and thought about the concept prompt, please get the attention of a facilitator."
   ]
  },
  {
   "cell_type": "markdown",
   "metadata": {},
   "source": [
    "You are now ready to work with another set of 20 lightcurves.  Load them into the notebook (you can use the script above), but the txt file name is now signalPlusNoiseCurve\\_twentyCurves\\_\\*\\*.txt, where the star is your team number. Each column in this text file corresponds to a new lightcurve."
   ]
  },
  {
   "cell_type": "code",
   "execution_count": 10,
   "metadata": {
    "collapsed": false
   },
   "outputs": [],
   "source": [
    "numCurves = 20\n",
    "curves = []\n",
    "curves_2D = loadtxt('../data/signalPlusNoiseCurve_twentyCurves_'+team_num+'.txt')\n",
    "for i in range(numCurves):\n",
    "    curves.append(curves_2D[:,i])"
   ]
  },
  {
   "cell_type": "markdown",
   "metadata": {},
   "source": [
    "Now read in the period for each lightcurve."
   ]
  },
  {
   "cell_type": "code",
   "execution_count": null,
   "metadata": {
    "collapsed": true
   },
   "outputs": [],
   "source": [
    "periodInDays = loadtxt('../data/signalPlusNoisePeriod_twentyCurves_'+team_num+'.txt')\n",
    "print periodInDays"
   ]
  },
  {
   "cell_type": "markdown",
   "metadata": {},
   "source": [
    "You should now have a list of 20 curves, where each list can be accessed with curves[i], i=0, 19"
   ]
  },
  {
   "cell_type": "code",
   "execution_count": 16,
   "metadata": {
    "collapsed": false
   },
   "outputs": [
    {
     "name": "stdout",
     "output_type": "stream",
     "text": [
      "[ 1.005233    1.02317996  0.9907639  ...,  0.99393329  1.00732675\n",
      "  1.00187047]\n"
     ]
    }
   ],
   "source": [
    "print curves[0]"
   ]
  },
  {
   "cell_type": "markdown",
   "metadata": {},
   "source": [
    "Now look for exoplanets!"
   ]
  },
  {
   "cell_type": "code",
   "execution_count": null,
   "metadata": {
    "collapsed": true
   },
   "outputs": [],
   "source": []
  }
 ],
 "metadata": {
  "kernelspec": {
   "display_name": "Python 2",
   "language": "python",
   "name": "python2"
  },
  "language_info": {
   "codemirror_mode": {
    "name": "ipython",
    "version": 2
   },
   "file_extension": ".py",
   "mimetype": "text/x-python",
   "name": "python",
   "nbconvert_exporter": "python",
   "pygments_lexer": "ipython2",
   "version": "2.7.11"
  }
 },
 "nbformat": 4,
 "nbformat_minor": 0
}
