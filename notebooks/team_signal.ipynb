{
 "cells": [
  {
   "cell_type": "markdown",
   "metadata": {},
   "source": [
    "Click on Help > Keyboard Shortcuts for a reminder on how to use python notebooks.  You can execute each cell with Shift+Enter."
   ]
  },
  {
   "cell_type": "markdown",
   "metadata": {},
   "source": [
    "Import some preliminary tools to work with the data."
   ]
  },
  {
   "cell_type": "code",
   "execution_count": null,
   "metadata": {
    "collapsed": false
   },
   "outputs": [],
   "source": [
    "import sys\n",
    "sys.path.append(\"../py\")\n",
    "import transitTools\n",
    "%pylab inline"
   ]
  },
  {
   "cell_type": "markdown",
   "metadata": {},
   "source": [
    "All data sets will be 30 hours long, with a sampling rate of one data point per minute, for a total of 1800 data points."
   ]
  },
  {
   "cell_type": "code",
   "execution_count": null,
   "metadata": {
    "collapsed": true
   },
   "outputs": [],
   "source": [
    "totalObservingTimeInMinutes = 30*60\n",
    "samplingRatePerMinute = 1\n",
    "time = arange(0, totalObservingTimeInMinutes, samplingRatePerMinute)"
   ]
  },
  {
   "cell_type": "markdown",
   "metadata": {},
   "source": [
    "Load in the first data set for your group given by signalcurve\\_\\*\\_\\*.txt, where the first star is your group number and the second star is the data set number, ranging from 0 to 2.  Please change team_num and data_set_num accordingly."
   ]
  },
  {
   "cell_type": "code",
   "execution_count": null,
   "metadata": {
    "collapsed": false
   },
   "outputs": [],
   "source": [
    "team_num = '0'\n",
    "data_set_num = '0'\n",
    "signalcurve = loadtxt('../data/signalcurve_'+team_num+'_'+data_set_num+'.txt')"
   ]
  },
  {
   "cell_type": "markdown",
   "metadata": {},
   "source": [
    "Now take a look at your first data set.  How might you characterize these data?"
   ]
  },
  {
   "cell_type": "code",
   "execution_count": null,
   "metadata": {
    "collapsed": false
   },
   "outputs": [],
   "source": [
    "plot(signalcurve)  #you can use plot(noisecurve), '.' to make a scatter plot intstead\n",
    "ylim([0.98,1.005]) #you might want to change the lower limit on the y-axis; \n",
    "#xlim works in the same way to adjust the zoom-in on the x-axis\n"
   ]
  },
  {
   "cell_type": "markdown",
   "metadata": {
    "collapsed": false
   },
   "source": [
    "Now load and analyze data sets 1 and 2"
   ]
  },
  {
   "cell_type": "code",
   "execution_count": null,
   "metadata": {
    "collapsed": true
   },
   "outputs": [],
   "source": []
  }
 ],
 "metadata": {
  "kernelspec": {
   "display_name": "Python 2",
   "language": "python",
   "name": "python2"
  },
  "language_info": {
   "codemirror_mode": {
    "name": "ipython",
    "version": 2
   },
   "file_extension": ".py",
   "mimetype": "text/x-python",
   "name": "python",
   "nbconvert_exporter": "python",
   "pygments_lexer": "ipython2",
   "version": "2.7.11"
  }
 },
 "nbformat": 4,
 "nbformat_minor": 0
}
