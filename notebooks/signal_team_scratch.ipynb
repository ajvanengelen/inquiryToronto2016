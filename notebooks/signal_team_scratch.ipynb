{
 "cells": [
  {
   "cell_type": "code",
   "execution_count": 1,
   "metadata": {
    "collapsed": false
   },
   "outputs": [
    {
     "name": "stdout",
     "output_type": "stream",
     "text": [
      "Populating the interactive namespace from numpy and matplotlib\n"
     ]
    }
   ],
   "source": [
    "import sys\n",
    "sys.path.append(\"../py\")\n",
    "import transitTools\n",
    "%pylab inline"
   ]
  },
  {
   "cell_type": "code",
   "execution_count": 4,
   "metadata": {
    "collapsed": false
   },
   "outputs": [],
   "source": [
    "#signal team 0"
   ]
  },
  {
   "cell_type": "code",
   "execution_count": 43,
   "metadata": {
    "collapsed": false
   },
   "outputs": [
    {
     "name": "stdout",
     "output_type": "stream",
     "text": [
      "[ 1.  1.  1. ...,  1.  1.  1.]\n"
     ]
    }
   ],
   "source": [
    "signalcurve = loadtxt('../data/signalcurve_0_0.txt')\n",
    "Per = 4.3 # period in days\n",
    "R_s = 1 # radius of sun in solar radius units\n",
    "print signalcurve"
   ]
  },
  {
   "cell_type": "code",
   "execution_count": 44,
   "metadata": {
    "collapsed": false
   },
   "outputs": [
    {
     "data": {
      "text/plain": [
       "<matplotlib.lines.Line2D at 0x7f494be5bdd0>"
      ]
     },
     "execution_count": 44,
     "metadata": {},
     "output_type": "execute_result"
    },
    {
     "data": {
      "image/png": "[encoded data removed]",
      "text/plain": [
       "<matplotlib.figure.Figure at 0x7f494be78690>"
      ]
     },
     "metadata": {},
     "output_type": "display_data"
    }
   ],
   "source": [
    "plot(signalcurve)\n",
    "ylim([0.98,1.005])\n",
    "xlim([750,1050])\n",
    "\n",
    "mn=mean(signalcurve[825:975])\n",
    "plot(mn*ones(1800))\n",
    "axvline(825)\n",
    "axvline(975)\n",
    "axvline(785)\n",
    "axvline(1015)"
   ]
  },
  {
   "cell_type": "code",
   "execution_count": 45,
   "metadata": {
    "collapsed": false
   },
   "outputs": [
    {
     "name": "stdout",
     "output_type": "stream",
     "text": [
      "0.98628890778\n"
     ]
    }
   ],
   "source": [
    "print min(signalcurve)"
   ]
  },
  {
   "cell_type": "code",
   "execution_count": 46,
   "metadata": {
    "collapsed": false
   },
   "outputs": [
    {
     "name": "stdout",
     "output_type": "stream",
     "text": [
      "0.01371109222\n"
     ]
    }
   ],
   "source": [
    "depth1 = max(signalcurve)-min(signalcurve) # basic way of getting the depth\n",
    "print depth1\n",
    "depth2 = mean(signalcurve[825:975])"
   ]
  },
  {
   "cell_type": "code",
   "execution_count": 47,
   "metadata": {
    "collapsed": false
   },
   "outputs": [
    {
     "name": "stdout",
     "output_type": "stream",
     "text": [
      "0.117094373135\n"
     ]
    }
   ],
   "source": [
    "#assume the star is similar to our sun\n",
    "R_p = (depth1**0.5)*R_s # radius of the planet in solar radius units\n",
    "print R_p "
   ]
  },
  {
   "cell_type": "code",
   "execution_count": 50,
   "metadata": {
    "collapsed": false
   },
   "outputs": [
    {
     "name": "stdout",
     "output_type": "stream",
     "text": [
      "230 0.159722222222\n",
      "8.56945571848\n"
     ]
    }
   ],
   "source": [
    "dur = 1015 - 785 # minutes\n",
    "durd = dur/(24.*60)\n",
    "a = R_s*Per/(pi*durd)\n",
    "print dur, durd\n",
    "print a"
   ]
  },
  {
   "cell_type": "code",
   "execution_count": null,
   "metadata": {
    "collapsed": true
   },
   "outputs": [],
   "source": []
  }
 ],
 "metadata": {
  "kernelspec": {
   "display_name": "Python 2",
   "language": "python",
   "name": "python2"
  },
  "language_info": {
   "codemirror_mode": {
    "name": "ipython",
    "version": 2
   },
   "file_extension": ".py",
   "mimetype": "text/x-python",
   "name": "python",
   "nbconvert_exporter": "python",
   "pygments_lexer": "ipython2",
   "version": "2.7.10"
  }
 },
 "nbformat": 4,
 "nbformat_minor": 0
}
